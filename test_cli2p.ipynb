{
 "cells": [
  {
   "cell_type": "code",
   "execution_count": 10,
   "metadata": {},
   "outputs": [],
   "source": [
    "from models.cli2p import CLI2P\n",
    "from PIL import Image\n",
    "import torch"
   ]
  },
  {
   "cell_type": "code",
   "execution_count": 11,
   "metadata": {},
   "outputs": [
    {
     "data": {
      "text/plain": [
       "torch.Size([2, 3, 224, 224])"
      ]
     },
     "execution_count": 11,
     "metadata": {},
     "output_type": "execute_result"
    }
   ],
   "source": [
    "image1 = model.img_preprocessor(Image.open(\"examples/pokemon.jpeg\")   ).unsqueeze(0).to(device)   # .shape=torch.Size([1, 3, 224, 224])\n",
    "image2 = model.img_preprocessor(Image.open(\"examples/pokemon.jpeg\")   ).unsqueeze(0).to(device)   # .shape=torch.Size([1, 3, 224, 224])\n",
    "torch.cat([image1, image2]).shape"
   ]
  },
  {
   "cell_type": "code",
   "execution_count": 12,
   "metadata": {},
   "outputs": [
    {
     "name": "stdout",
     "output_type": "stream",
     "text": [
      "Loading vision model config from e:\\explore\\CLI2P\\models\\model_configs\\ViT-B-16.json\n",
      "Loading text model config from e:\\explore\\CLI2P\\models\\model_configs\\RoBERTa-wwm-ext-base-chinese.json\n",
      "Model info {'embed_dim': 512, 'image_resolution': 224, 'vision_layers': 12, 'vision_width': 768, 'vision_patch_size': 16, 'vocab_size': 21128, 'text_attention_probs_dropout_prob': 0.1, 'text_hidden_act': 'gelu', 'text_hidden_dropout_prob': 0.1, 'text_hidden_size': 768, 'text_initializer_range': 0.02, 'text_intermediate_size': 3072, 'text_max_position_embeddings': 512, 'text_num_attention_heads': 12, 'text_num_hidden_layers': 12, 'text_type_vocab_size': 2}\n",
      "image_features.shape:torch.Size([2, 512])\n",
      "text_features.shape:torch.Size([2, 512])\n",
      "mix_f.shape:torch.Size([2, 1024])\n"
     ]
    }
   ],
   "source": [
    "device = \"cuda\" if torch.cuda.is_available() else \"cpu\"\n",
    "\n",
    "config_dict ={\n",
    "    \"device\": device\n",
    "}\n",
    "model = CLI2P(config_dict)\n",
    "model.cuda()\n",
    "model.eval()\n",
    "\n",
    "image1 = model.img_preprocessor(Image.open(\"examples/pokemon.jpeg\")).unsqueeze(0).to(device)   # .shape=torch.Size([1, 3, 224, 224])\n",
    "image2 = model.img_preprocessor(Image.open(\"examples/pokemon.jpeg\")).unsqueeze(0).to(device)   # .shape=torch.Size([1, 3, 224, 224])\n",
    "image = torch.cat([image1, image2])\n",
    "# text = tokenize([\"杰尼龟\", \"妙蛙种子\", \"小火龙\", \"皮卡丘\"]).to(device)\n",
    "text = model.text_preprocessor([\"杰尼龟\",'妙蛙种子']).to(device) # .shape=[1,52]  ===> [ [101(开始标志), 3345('杰'的索引), 2225('尼'的索引), 7991('龟'的索引) ， 0 ，0， 0，... 0  ] ]  ---> 所谓索引就是该字符在 models/vocab.txt 中的行数\n",
    "\n",
    "with torch.no_grad():\n",
    "    image_features = model.feat_extrator.encode_image(image)\n",
    "    text_features = model.feat_extrator.encode_text(text)\n",
    "    # 对特征进行归一化，请使用归一化后的图文特征用于下游任务\n",
    "    image_features /= image_features.norm(dim=-1, keepdim=True)  # \n",
    "    text_features /= text_features.norm(dim=-1, keepdim=True)    \n",
    "    print(f'image_features.shape:{image_features.shape}')  # image_features.shape:torch.Size([1, 512])   可见 图像编码 与 文本编码 最后都是编码成为 512 \n",
    "    print(f'text_features.shape:{text_features.shape}')    # text_features.shape:torch.Size([1, 512])\n",
    "    mix_f = model(image, text)\n",
    "    print(f\"mix_f.shape:{mix_f.shape}\")"
   ]
  },
  {
   "cell_type": "code",
   "execution_count": 13,
   "metadata": {},
   "outputs": [
    {
     "data": {
      "text/plain": [
       "tensor([[ 0.0955, -0.0375,  0.0165,  ..., -0.0066,  0.0392,  0.0115],\n",
       "        [ 0.0955, -0.0375,  0.0165,  ..., -0.0066,  0.0392,  0.0115]],\n",
       "       device='cuda:0', dtype=torch.float16)"
      ]
     },
     "execution_count": 13,
     "metadata": {},
     "output_type": "execute_result"
    }
   ],
   "source": [
    "image_features"
   ]
  },
  {
   "cell_type": "code",
   "execution_count": 14,
   "metadata": {},
   "outputs": [
    {
     "data": {
      "text/plain": [
       "tensor([[ 0.1174, -0.0163,  0.0040,  ...,  0.0345,  0.0659, -0.0065],\n",
       "        [ 0.1010, -0.0084, -0.0572,  ...,  0.0056,  0.0452,  0.0021]],\n",
       "       device='cuda:0', dtype=torch.float16)"
      ]
     },
     "execution_count": 14,
     "metadata": {},
     "output_type": "execute_result"
    }
   ],
   "source": [
    "text_features"
   ]
  },
  {
   "cell_type": "code",
   "execution_count": null,
   "metadata": {},
   "outputs": [],
   "source": []
  }
 ],
 "metadata": {
  "kernelspec": {
   "display_name": "pt",
   "language": "python",
   "name": "python3"
  },
  "language_info": {
   "codemirror_mode": {
    "name": "ipython",
    "version": 3
   },
   "file_extension": ".py",
   "mimetype": "text/x-python",
   "name": "python",
   "nbconvert_exporter": "python",
   "pygments_lexer": "ipython3",
   "version": "3.9.19"
  }
 },
 "nbformat": 4,
 "nbformat_minor": 2
}
