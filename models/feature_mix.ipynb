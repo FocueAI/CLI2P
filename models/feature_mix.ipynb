{
 "cells": [
  {
   "cell_type": "code",
   "execution_count": 1,
   "metadata": {},
   "outputs": [
    {
     "name": "stderr",
     "output_type": "stream",
     "text": [
      "d:\\anaconda\\envs\\pt\\lib\\site-packages\\tqdm\\auto.py:21: TqdmWarning: IProgress not found. Please update jupyter and ipywidgets. See https://ipywidgets.readthedocs.io/en/stable/user_install.html\n",
      "  from .autonotebook import tqdm as notebook_tqdm\n"
     ]
    }
   ],
   "source": [
    "from transformers import BertModel"
   ]
  },
  {
   "cell_type": "code",
   "execution_count": 7,
   "metadata": {},
   "outputs": [
    {
     "name": "stdout",
     "output_type": "stream",
     "text": [
      "tensor([[-0.5067, -0.7265,  0.2073, -0.2031, -0.7495,  0.6879, -0.4810,  0.3496],\n",
      "        [-0.4326, -0.6922,  0.2237, -0.2000, -0.6833,  0.6560, -0.4789,  0.1451]],\n",
      "       grad_fn=<AddmmBackward0>)\n"
     ]
    }
   ],
   "source": [
    "import torch\n",
    "from torch import nn\n",
    "from transformers import BertModel\n",
    "\n",
    "class MultiModalTransformer(nn.Module):\n",
    "    def __init__(self, modality_dim, hidden_dim, num_classes):\n",
    "        super(MultiModalTransformer, self).__init__()\n",
    "        self.modality_dim = modality_dim\n",
    "        self.hidden_dim = hidden_dim\n",
    "        self.num_classes = num_classes\n",
    "        \n",
    "        # 文本编码器，使用BERT模型，其输出维度为(hidden_dim, sequence_length)\n",
    "        self.text_encoder = BertModel.from_pretrained('bert-base-uncased')\n",
    "        self.image_projection = nn.Linear(modality_dim, hidden_dim)\n",
    "        \n",
    "        # 位置编码，维度为(max_position_embeddings, hidden_dim)\n",
    "        self.position_embedding = nn.Embedding(512, hidden_dim)\n",
    "        \n",
    "        # Transformer层，输入维度为(sequence_length, batch_size, hidden_dim)\n",
    "        self.transformer_layers = nn.TransformerEncoderLayer(\n",
    "            d_model=hidden_dim,\n",
    "            nhead=8,\n",
    "            dim_feedforward=hidden_dim * 4,\n",
    "            dropout=0.1,\n",
    "        )\n",
    "        \n",
    "        # 输出层，将Transformer的输出映射到分类数量\n",
    "        self.output_layer = nn.Linear(hidden_dim, num_classes)\n",
    "        \n",
    "    def forward(self, text_inputs, image_features):\n",
    "        # 文本输入通过BERT模型，输出维度为(batch_size, sequence_length, hidden_dim)\n",
    "        outputs = self.text_encoder(text_inputs, return_dict=True) # \n",
    "        sequence_output = outputs.last_hidden_state  # .shape=(2,128,768)\n",
    "        \n",
    "        # 图像特征通过线性层投影到与文本相同的维度，输出维度为(batch_size, hidden_dim)\n",
    "        image_features = self.image_projection(image_features) # .shape=(2,768)\n",
    "        \n",
    "        # 合并文本和图像特征，假设图像特征被复制以匹配文本序列的长度\n",
    "        # 输出维度为(batch_size, sequence_length + 1, hidden_dim)  经过下一行的代码， cat中的2个元素的维度，分别都为： .shape =(2, 128, 768)\n",
    "        combined_features = torch.cat((sequence_output, image_features.unsqueeze(1).repeat(1, sequence_output.size(1), 1)), dim=1)  # 在长度上做拼接 .shape=(2, 256, 768)\n",
    "        \n",
    "        # 添加位置编码，位置编码的维度为(1, sequence_length + 1, hidden_dim)\n",
    "        position_ids = torch.arange(combined_features.size(1), device=combined_features.device)  # .shape=(256,)\n",
    "        position_embeddings = self.position_embedding(position_ids) # .shape=(256,786)\n",
    "        combined_features += position_embeddings                    # .shape=(2, 256, 768)\n",
    "        \n",
    "        # 通过Transformer层，输入维度为(sequence_length + 1, batch_size, hidden_dim)\n",
    "        transformer_output = self.transformer_layers(combined_features.transpose(0, 1)).transpose(0, 1) # .shape=(2, 256, 768)\n",
    "        \n",
    "        # 特征融合，取Transformer输出的第一个token（分类token）作为序列的表示\n",
    "        # 输出维度为(batch_size, hidden_dim)\n",
    "        pooled_output = transformer_output[:, 0, :]  # .shape=(2,768)\n",
    "        \n",
    "        # 通过输出层得到最终分类结果，输出维度为(batch_size, num_classes)\n",
    "        logits = self.output_layer(pooled_output)\n",
    "        \n",
    "        return logits\n",
    "\n",
    "# 模型初始化\n",
    "modality_dim = 512  # 图像特征维度\n",
    "hidden_dim = 768   # 隐藏层维度，与BERT的维度相同\n",
    "num_classes = 8    # 分类类别数\n",
    "model = MultiModalTransformer(modality_dim, hidden_dim, num_classes)\n",
    "\n",
    "# 假设文本输入和图像特征\n",
    "text_inputs = torch.randint(0, 100, (2, 128))  # 假设的文本输入，维度为(batch_size, sequence_length)   .shape=(2,128)\n",
    "image_features = torch.rand(2, modality_dim)  # 假设的图像特征，维度为(batch_size, modality_dim)       .shape=(2,512)\n",
    "\n",
    "# 前向传播\n",
    "outputs = model(text_inputs, image_features)\n",
    "print(outputs)  # 输出维度为(batch_size, num_classes)"
   ]
  }
 ],
 "metadata": {
  "kernelspec": {
   "display_name": "pt",
   "language": "python",
   "name": "python3"
  },
  "language_info": {
   "codemirror_mode": {
    "name": "ipython",
    "version": 3
   },
   "file_extension": ".py",
   "mimetype": "text/x-python",
   "name": "python",
   "nbconvert_exporter": "python",
   "pygments_lexer": "ipython3",
   "version": "3.9.19"
  }
 },
 "nbformat": 4,
 "nbformat_minor": 2
}
